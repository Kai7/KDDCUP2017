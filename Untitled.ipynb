{
 "cells": [
  {
   "cell_type": "code",
   "execution_count": 1,
   "metadata": {
    "collapsed": true
   },
   "outputs": [],
   "source": [
    "import pandas as pd\n",
    "import numpy as np"
   ]
  },
  {
   "cell_type": "code",
   "execution_count": 2,
   "metadata": {
    "collapsed": true
   },
   "outputs": [],
   "source": [
    "train_traj_path = \"dataSets/training/trajectories(table 5)_training.csv\"\n",
    "traj = pd.read_csv(train_traj_path)"
   ]
  },
  {
   "cell_type": "code",
   "execution_count": 14,
   "metadata": {
    "collapsed": false
   },
   "outputs": [
    {
     "data": {
      "text/html": [
       "<div style=\"max-height:1000px;max-width:1500px;overflow:auto;\">\n",
       "<table border=\"1\" class=\"dataframe\">\n",
       "  <thead>\n",
       "    <tr style=\"text-align: right;\">\n",
       "      <th></th>\n",
       "      <th>intersection_id</th>\n",
       "      <th>tollgate_id</th>\n",
       "      <th>vehicle_id</th>\n",
       "      <th>starting_time</th>\n",
       "      <th>travel_seq</th>\n",
       "      <th>travel_time</th>\n",
       "    </tr>\n",
       "  </thead>\n",
       "  <tbody>\n",
       "    <tr>\n",
       "      <th>0</th>\n",
       "      <td> B</td>\n",
       "      <td> 3</td>\n",
       "      <td> 1065642</td>\n",
       "      <td>2016-07-19 00:14:24</td>\n",
       "      <td> 105#2016-07-19 00:14:24#9.56;100#2016-07-19 00...</td>\n",
       "      <td>  70.85</td>\n",
       "    </tr>\n",
       "    <tr>\n",
       "      <th>1</th>\n",
       "      <td> B</td>\n",
       "      <td> 3</td>\n",
       "      <td> 1047198</td>\n",
       "      <td>2016-07-19 00:35:56</td>\n",
       "      <td> 105#2016-07-19 00:35:56#11.58;100#2016-07-19 0...</td>\n",
       "      <td> 148.79</td>\n",
       "    </tr>\n",
       "    <tr>\n",
       "      <th>2</th>\n",
       "      <td> B</td>\n",
       "      <td> 1</td>\n",
       "      <td> 1086390</td>\n",
       "      <td>2016-07-19 00:37:15</td>\n",
       "      <td> 105#2016-07-19 00:37:15#5.26;100#2016-07-19 00...</td>\n",
       "      <td>  79.76</td>\n",
       "    </tr>\n",
       "    <tr>\n",
       "      <th>3</th>\n",
       "      <td> A</td>\n",
       "      <td> 2</td>\n",
       "      <td> 1071181</td>\n",
       "      <td>2016-07-19 00:37:59</td>\n",
       "      <td> 110#2016-07-19 00:37:59#13.74;123#2016-07-19 0...</td>\n",
       "      <td>  58.05</td>\n",
       "    </tr>\n",
       "    <tr>\n",
       "      <th>4</th>\n",
       "      <td> B</td>\n",
       "      <td> 1</td>\n",
       "      <td> 1065807</td>\n",
       "      <td>2016-07-19 00:56:21</td>\n",
       "      <td> 105#2016-07-19 00:56:21#16.08;100#2016-07-19 0...</td>\n",
       "      <td> 137.98</td>\n",
       "    </tr>\n",
       "    <tr>\n",
       "      <th>5</th>\n",
       "      <td> C</td>\n",
       "      <td> 3</td>\n",
       "      <td> 1072812</td>\n",
       "      <td>2016-07-19 00:56:31</td>\n",
       "      <td> 115#2016-07-19 00:56:31#10.97;102#2016-07-19 0...</td>\n",
       "      <td> 113.54</td>\n",
       "    </tr>\n",
       "    <tr>\n",
       "      <th>6</th>\n",
       "      <td> B</td>\n",
       "      <td> 1</td>\n",
       "      <td> 1014648</td>\n",
       "      <td>2016-07-19 01:26:03</td>\n",
       "      <td> 105#2016-07-19 01:26:03#16.85;100#2016-07-19 0...</td>\n",
       "      <td> 176.70</td>\n",
       "    </tr>\n",
       "    <tr>\n",
       "      <th>7</th>\n",
       "      <td> A</td>\n",
       "      <td> 2</td>\n",
       "      <td> 1063919</td>\n",
       "      <td>2016-07-19 01:36:04</td>\n",
       "      <td> 110#2016-07-19 01:36:04#10.39;123#2016-07-19 0...</td>\n",
       "      <td>  74.47</td>\n",
       "    </tr>\n",
       "    <tr>\n",
       "      <th>8</th>\n",
       "      <td> A</td>\n",
       "      <td> 3</td>\n",
       "      <td> 1064408</td>\n",
       "      <td>2016-07-19 01:36:20</td>\n",
       "      <td> 110#2016-07-19 01:36:20#8.58;123#2016-07-19 01...</td>\n",
       "      <td>  94.57</td>\n",
       "    </tr>\n",
       "    <tr>\n",
       "      <th>9</th>\n",
       "      <td> C</td>\n",
       "      <td> 1</td>\n",
       "      <td> 1056529</td>\n",
       "      <td>2016-07-19 01:36:28</td>\n",
       "      <td> 115#2016-07-19 01:36:28#9.50;102#2016-07-19 01...</td>\n",
       "      <td> 214.87</td>\n",
       "    </tr>\n",
       "  </tbody>\n",
       "</table>\n",
       "</div>"
      ],
      "text/plain": [
       "  intersection_id  tollgate_id  vehicle_id       starting_time  \\\n",
       "0               B            3     1065642 2016-07-19 00:14:24   \n",
       "1               B            3     1047198 2016-07-19 00:35:56   \n",
       "2               B            1     1086390 2016-07-19 00:37:15   \n",
       "3               A            2     1071181 2016-07-19 00:37:59   \n",
       "4               B            1     1065807 2016-07-19 00:56:21   \n",
       "5               C            3     1072812 2016-07-19 00:56:31   \n",
       "6               B            1     1014648 2016-07-19 01:26:03   \n",
       "7               A            2     1063919 2016-07-19 01:36:04   \n",
       "8               A            3     1064408 2016-07-19 01:36:20   \n",
       "9               C            1     1056529 2016-07-19 01:36:28   \n",
       "\n",
       "                                          travel_seq  travel_time  \n",
       "0  105#2016-07-19 00:14:24#9.56;100#2016-07-19 00...        70.85  \n",
       "1  105#2016-07-19 00:35:56#11.58;100#2016-07-19 0...       148.79  \n",
       "2  105#2016-07-19 00:37:15#5.26;100#2016-07-19 00...        79.76  \n",
       "3  110#2016-07-19 00:37:59#13.74;123#2016-07-19 0...        58.05  \n",
       "4  105#2016-07-19 00:56:21#16.08;100#2016-07-19 0...       137.98  \n",
       "5  115#2016-07-19 00:56:31#10.97;102#2016-07-19 0...       113.54  \n",
       "6  105#2016-07-19 01:26:03#16.85;100#2016-07-19 0...       176.70  \n",
       "7  110#2016-07-19 01:36:04#10.39;123#2016-07-19 0...        74.47  \n",
       "8  110#2016-07-19 01:36:20#8.58;123#2016-07-19 01...        94.57  \n",
       "9  115#2016-07-19 01:36:28#9.50;102#2016-07-19 01...       214.87  "
      ]
     },
     "execution_count": 14,
     "metadata": {},
     "output_type": "execute_result"
    }
   ],
   "source": [
    "traj.head(10)"
   ]
  },
  {
   "cell_type": "code",
   "execution_count": 13,
   "metadata": {
    "collapsed": false
   },
   "outputs": [
    {
     "data": {
      "text/plain": [
       "intersection_id            object\n",
       "tollgate_id                 int64\n",
       "vehicle_id                  int64\n",
       "starting_time      datetime64[ns]\n",
       "travel_seq                 object\n",
       "travel_time               float64\n",
       "dtype: object"
      ]
     },
     "execution_count": 13,
     "metadata": {},
     "output_type": "execute_result"
    }
   ],
   "source": [
    "traj.dtypes"
   ]
  },
  {
   "cell_type": "code",
   "execution_count": 12,
   "metadata": {
    "collapsed": false
   },
   "outputs": [],
   "source": [
    "traj['starting_time'] = pd.to_datetime(traj['starting_time'])"
   ]
  },
  {
   "cell_type": "code",
   "execution_count": 19,
   "metadata": {
    "collapsed": false
   },
   "outputs": [
    {
     "data": {
      "text/plain": [
       "intersection_id                                                    B\n",
       "tollgate_id                                                        3\n",
       "vehicle_id                                                   1065642\n",
       "starting_time                                    2016-07-19 00:14:24\n",
       "travel_seq         105#2016-07-19 00:14:24#9.56;100#2016-07-19 00...\n",
       "travel_time                                                    70.85\n",
       "Name: 0, dtype: object"
      ]
     },
     "execution_count": 19,
     "metadata": {},
     "output_type": "execute_result"
    }
   ],
   "source": [
    "traj.iloc[0]."
   ]
  },
  {
   "cell_type": "code",
   "execution_count": 15,
   "metadata": {
    "collapsed": false
   },
   "outputs": [
    {
     "data": {
      "text/plain": [
       "109244"
      ]
     },
     "execution_count": 15,
     "metadata": {},
     "output_type": "execute_result"
    }
   ],
   "source": [
    "tmp = list()\n",
    "for i in range(traj.shape[0]):\n",
    "    record = traj.iloc[i]\n",
    "    if record['intersection'] == 'A' && traj."
   ]
  },
  {
   "cell_type": "markdown",
   "metadata": {},
   "source": [
    "----"
   ]
  },
  {
   "cell_type": "code",
   "execution_count": 1,
   "metadata": {
    "collapsed": true
   },
   "outputs": [],
   "source": [
    "import math\n",
    "from datetime import datetime,timedelta"
   ]
  },
  {
   "cell_type": "code",
   "execution_count": 30,
   "metadata": {
    "collapsed": false
   },
   "outputs": [],
   "source": [
    "def avgTravelTime(in_file):\n",
    "    out_suffix = '_20min_avg_travel_time'\n",
    "    in_file_name = in_file\n",
    "    out_file_name = in_file + out_suffix + '.csv'\n",
    "\n",
    "    # Step 1: Load trajectories\n",
    "    fr = open(in_file, 'r')\n",
    "    fr.readline()  # skip the header\n",
    "    traj_data = fr.readlines()\n",
    "    fr.close()\n",
    "    print(traj_data[0])\n",
    "\n",
    "    # Step 2: Create a dictionary to store travel time for each route per time window\n",
    "    travel_times = {}  # key: route_id. Value is also a dictionary of which key is the start time for the time window and value is a list of travel times\n",
    "    for i in range(len(traj_data)):\n",
    "        each_traj = traj_data[i].replace('\"', '').split(',')\n",
    "        intersection_id = each_traj[0]\n",
    "        tollgate_id = each_traj[1]\n",
    "\n",
    "        route_id = intersection_id + '-' + tollgate_id\n",
    "        if route_id not in travel_times.keys():\n",
    "            travel_times[route_id] = {}\n",
    "\n",
    "        trace_start_time = each_traj[3]\n",
    "        trace_start_time = datetime.strptime(trace_start_time, \"%Y-%m-%d %H:%M:%S\")\n",
    "        h = trace_start_time.hour\n",
    "        if h < 8 or (h >= 10 and h < 17) or h >= 19:\n",
    "            continue\n",
    "        time_window_minute = math.floor(trace_start_time.minute / 20) * 20\n",
    "        start_time_window = datetime(trace_start_time.year, trace_start_time.month, trace_start_time.day,\n",
    "                                     trace_start_time.hour, time_window_minute, 0)\n",
    "        tt = float(each_traj[-1]) # travel time\n",
    "\n",
    "        if start_time_window not in travel_times[route_id].keys():\n",
    "            travel_times[route_id][start_time_window] = [tt]\n",
    "        else:\n",
    "            travel_times[route_id][start_time_window].append(tt)\n",
    "\n",
    "    # Step 3: Calculate average travel time for each route per time window\n",
    "    fw = open(out_file_name, 'w')\n",
    "    fw.writelines(','.join(['\"intersection_id\"', '\"tollgate_id\"', '\"time_window\"', '\"avg_travel_time\"']) + '\\n')\n",
    "    for route in travel_times.keys():\n",
    "        route_time_windows = list(travel_times[route].keys())\n",
    "        route_time_windows.sort()\n",
    "        for time_window_start in route_time_windows:\n",
    "            time_window_end = time_window_start + timedelta(minutes=20)\n",
    "            tt_set = travel_times[route][time_window_start]\n",
    "            avg_tt = round(sum(tt_set) / float(len(tt_set)), 2)\n",
    "            out_line = ','.join(['\"' + route.split('-')[0] + '\"', '\"' + route.split('-')[1] + '\"',\n",
    "                                 '\"[' + str(time_window_start) + ',' + str(time_window_end) + ')\"',\n",
    "                                 '\"' + str(avg_tt) + '\"']) + '\\n'\n",
    "            fw.writelines(out_line)\n",
    "    fw.close()"
   ]
  },
  {
   "cell_type": "code",
   "execution_count": 31,
   "metadata": {
    "collapsed": false
   },
   "outputs": [
    {
     "name": "stdout",
     "output_type": "stream",
     "text": [
      "\"B\",\"3\",\"1065642\",\"2016-07-19 00:14:24\",\"105#2016-07-19 00:14:24#9.56;100#2016-07-19 00:14:34#6.75;111#2016-07-19 00:14:41#13.00;103#2016-07-19 00:14:54#7.47;122#2016-07-19 00:15:02#32.85\",\"70.85\"\n",
      "\n"
     ]
    }
   ],
   "source": [
    "avgTravelTime(train_traj_path)"
   ]
  },
  {
   "cell_type": "code",
   "execution_count": 3,
   "metadata": {
    "collapsed": true
   },
   "outputs": [],
   "source": [
    "def avgTravelTimeFillNull(in_file):\n",
    "    out_suffix = '_20min_avg_travel_time_fill_null'\n",
    "    in_file_name = in_file\n",
    "    out_file_name = in_file + out_suffix + '.csv'\n",
    "\n",
    "    # Step 1: Load trajectories\n",
    "    fr = open(in_file, 'r')\n",
    "    fr.readline()  # skip the header\n",
    "    traj_data = fr.readlines()\n",
    "    fr.close()\n",
    "    print(traj_data[0])\n",
    "\n",
    "    time_windows = set()\n",
    "    # Step 2: Create a dictionary to store travel time for each route per time window\n",
    "    travel_times = {}  # key: route_id. Value is also a dictionary of which key is the start time for the time window and value is a list of travel times\n",
    "    for i in range(len(traj_data)):\n",
    "        each_traj = traj_data[i].replace('\"', '').split(',')\n",
    "        intersection_id = each_traj[0]\n",
    "        tollgate_id = each_traj[1]\n",
    "\n",
    "        route_id = intersection_id + '-' + tollgate_id\n",
    "        if route_id not in travel_times.keys():\n",
    "            travel_times[route_id] = {}\n",
    "\n",
    "        trace_start_time = each_traj[3]\n",
    "        trace_start_time = datetime.strptime(trace_start_time, \"%Y-%m-%d %H:%M:%S\")\n",
    "        h = trace_start_time.hour\n",
    "        if h < 8 or (h >= 10 and h < 17) or h >= 19:\n",
    "            continue\n",
    "        time_window_minute = math.floor(trace_start_time.minute / 20) * 20\n",
    "        start_time_window = datetime(trace_start_time.year, trace_start_time.month, trace_start_time.day,\n",
    "                                     trace_start_time.hour, time_window_minute, 0)\n",
    "        time_windows.add(start_time_window)\n",
    "        tt = float(each_traj[-1]) # travel time\n",
    "\n",
    "        if start_time_window not in travel_times[route_id].keys():\n",
    "            travel_times[route_id][start_time_window] = [tt]\n",
    "        else:\n",
    "            travel_times[route_id][start_time_window].append(tt)\n",
    "    time_windows = list(time_windows)\n",
    "    time_windows.sort()\n",
    "    \n",
    "    # Step 3: Calculate average travel time for each route per time window\n",
    "    fw = open(out_file_name, 'w')\n",
    "    fw.writelines(','.join(['\"intersection_id\"', '\"tollgate_id\"', '\"time_window\"', '\"avg_travel_time\"']) + '\\n')\n",
    "    for route in travel_times.keys():\n",
    "        route_time_windows = set(travel_times[route].keys())\n",
    "        for time_window_start in time_windows:\n",
    "            time_window_end = time_window_start + timedelta(minutes=20)\n",
    "            if time_window_start not in route_time_windows:\n",
    "                tt_set = {-1}\n",
    "            else:\n",
    "                tt_set = travel_times[route][time_window_start]\n",
    "            avg_tt = round(sum(tt_set) / float(len(tt_set)), 2)\n",
    "            out_line = ','.join(['\"' + route.split('-')[0] + '\"', '\"' + route.split('-')[1] + '\"',\n",
    "                                 '\"[' + str(time_window_start) + ',' + str(time_window_end) + ')\"',\n",
    "                                 '\"' + str(avg_tt) + '\"']) + '\\n'\n",
    "            fw.writelines(out_line)\n",
    "    fw.close()"
   ]
  },
  {
   "cell_type": "code",
   "execution_count": 4,
   "metadata": {
    "collapsed": false
   },
   "outputs": [
    {
     "name": "stdout",
     "output_type": "stream",
     "text": [
      "\"B\",\"3\",\"1065642\",\"2016-07-19 00:14:24\",\"105#2016-07-19 00:14:24#9.56;100#2016-07-19 00:14:34#6.75;111#2016-07-19 00:14:41#13.00;103#2016-07-19 00:14:54#7.47;122#2016-07-19 00:15:02#32.85\",\"70.85\"\n",
      "\n"
     ]
    }
   ],
   "source": [
    "avgTravelTimeFillNull(\"dataSets/training/trajectories(table 5)_training.csv\")"
   ]
  },
  {
   "cell_type": "code",
   "execution_count": 5,
   "metadata": {
    "collapsed": true
   },
   "outputs": [],
   "source": [
    "def avgVolumeFillNull(in_file):\n",
    "\n",
    "    out_suffix = '_20min_avg_volume_fill_null'\n",
    "    in_file_name = in_file\n",
    "    out_file_name = in_file + out_suffix + '.csv'\n",
    "\n",
    "    # Step 1: Load volume data\n",
    "    fr = open(in_file, 'r')\n",
    "    fr.readline()  # skip the header\n",
    "    vol_data = fr.readlines()\n",
    "    fr.close()\n",
    "\n",
    "    # Step 2: Create a dictionary to caculate and store volume per time window\n",
    "    volumes = {}  # key: time window value: dictionary\n",
    "    for i in range(len(vol_data)):\n",
    "        each_pass = vol_data[i].replace('\"', '').split(',')\n",
    "        tollgate_id = each_pass[1]\n",
    "        direction = each_pass[2]\n",
    "\n",
    "        pass_time = each_pass[0]\n",
    "        pass_time = datetime.strptime(pass_time, \"%Y-%m-%d %H:%M:%S\")\n",
    "        h = pass_time.hour\n",
    "        if h < 8 or (h >= 10 and h < 17) or h >= 19:\n",
    "            continue\n",
    "        time_window_minute = int(math.floor(pass_time.minute / 20) * 20)\n",
    "        #print pass_time\n",
    "        start_time_window = datetime(pass_time.year, pass_time.month, pass_time.day,\n",
    "                                     pass_time.hour, time_window_minute, 0)\n",
    "\n",
    "        if start_time_window not in volumes:\n",
    "            volumes[start_time_window] = {}\n",
    "        if tollgate_id not in volumes[start_time_window]:\n",
    "            volumes[start_time_window][tollgate_id] = {}\n",
    "        if direction not in volumes[start_time_window][tollgate_id]:\n",
    "            volumes[start_time_window][tollgate_id][direction] = 1\n",
    "        else:\n",
    "            volumes[start_time_window][tollgate_id][direction] += 1\n",
    "    \n",
    "    print(\"step3 start\")\n",
    "    # Step 3: format output for tollgate and direction per time window\n",
    "    td_pairs = [('1', '0'), ('1', '1'), ('3', '0'), ('3', '1'), ('2', '0')]\n",
    "    fw = open(out_file_name, 'w')\n",
    "    fw.writelines(','.join(['\"tollgate_id\"', '\"time_window\"', '\"direction\"', '\"volume\"']) + '\\n')\n",
    "    time_windows = list(volumes.keys())\n",
    "    time_windows.sort()\n",
    "    for time_window_start in time_windows:\n",
    "        time_window_end = time_window_start + timedelta(minutes=20)\n",
    "        for tollgate, direction in td_pairs: \n",
    "            try:\n",
    "                v = volumes[time_window_start][tollgate][direction]\n",
    "            except KeyError:\n",
    "                print(str(time_window_start) + '[' + tollgate + ',' + direction + ']')\n",
    "                v = -1\n",
    "            #v = volumes[time_window_start][tollgate][direction]\n",
    "            out_line = ','.join(['\"' + str(tollgate) + '\"', \n",
    "                              '\"[' + str(time_window_start) + ',' + str(time_window_end) + ')\"',\n",
    "                               '\"' + str(direction) + '\"',\n",
    "                                '\"' + str(v) + '\"',\n",
    "                              ]) + '\\n'\n",
    "            fw.writelines(out_line)\n",
    "    fw.close()\n"
   ]
  },
  {
   "cell_type": "code",
   "execution_count": 6,
   "metadata": {
    "collapsed": false
   },
   "outputs": [
    {
     "name": "stdout",
     "output_type": "stream",
     "text": [
      "step3 start\n",
      "2016-09-24 18:20:00[2,0]\n",
      "2016-10-02 08:00:00[2,0]\n",
      "2016-10-03 09:00:00[2,0]\n",
      "2016-10-03 09:20:00[2,0]\n",
      "2016-10-03 09:40:00[2,0]\n"
     ]
    }
   ],
   "source": [
    "avgVolumeFillNull(\"dataSets/training/volume(table 6)_training.csv\")"
   ]
  },
  {
   "cell_type": "code",
   "execution_count": null,
   "metadata": {
    "collapsed": true
   },
   "outputs": [],
   "source": [
    "# -*- coding: utf-8 -*-\n",
    "#!/usr/bin/env python\n",
    "\n",
    "\"\"\"\n",
    "Calculate volume for each 20-minute time window.\n",
    "\"\"\"\n",
    "import math\n",
    "from datetime import datetime,timedelta\n",
    "\n",
    "file_suffix = '.csv'\n",
    "path = '../'  # set the data directory\n",
    "\n",
    "def avgVolume(in_file):\n",
    "\n",
    "    out_suffix = '_20min_avg_volume'\n",
    "    in_file_name = in_file + file_suffix\n",
    "    out_file_name = in_file.split('_')[1] + out_suffix + file_suffix\n",
    "\n",
    "    # Step 1: Load volume data\n",
    "    fr = open(path + in_file_name, 'r')\n",
    "    fr.readline()  # skip the header\n",
    "    vol_data = fr.readlines()\n",
    "    fr.close()\n",
    "\n",
    "    # Step 2: Create a dictionary to caculate and store volume per time window\n",
    "    volumes = {}  # key: time window value: dictionary\n",
    "    for i in range(len(vol_data)):\n",
    "        each_pass = vol_data[i].replace('\"', '').split(',')\n",
    "        tollgate_id = each_pass[1]\n",
    "        direction = each_pass[2]\n",
    "\n",
    "        pass_time = each_pass[0]\n",
    "        pass_time = datetime.strptime(pass_time, \"%Y-%m-%d %H:%M:%S\")\n",
    "        time_window_minute = int(math.floor(pass_time.minute / 20) * 20)\n",
    "        #print pass_time\n",
    "        start_time_window = datetime(pass_time.year, pass_time.month, pass_time.day,\n",
    "                                     pass_time.hour, time_window_minute, 0)\n",
    "\n",
    "        if start_time_window not in volumes:\n",
    "            volumes[start_time_window] = {}\n",
    "        if tollgate_id not in volumes[start_time_window]:\n",
    "            volumes[start_time_window][tollgate_id] = {}\n",
    "        if direction not in volumes[start_time_window][tollgate_id]:\n",
    "            volumes[start_time_window][tollgate_id][direction] = 1\n",
    "        else:\n",
    "            volumes[start_time_window][tollgate_id][direction] += 1\n",
    "\n",
    "    # Step 3: format output for tollgate and direction per time window\n",
    "    fw = open(out_file_name, 'w')\n",
    "    fw.writelines(','.join(['\"tollgate_id\"', '\"time_window\"', '\"direction\"', '\"volume\"']) + '\\n')\n",
    "    time_windows = list(volumes.keys())\n",
    "    time_windows.sort()\n",
    "    for time_window_start in time_windows:\n",
    "        time_window_end = time_window_start + timedelta(minutes=20)\n",
    "        for tollgate_id in volumes[time_window_start]:\n",
    "            for direction in volumes[time_window_start][tollgate_id]:\n",
    "               out_line = ','.join(['\"' + str(tollgate_id) + '\"', \n",
    "                                 '\"[' + str(time_window_start) + ',' + str(time_window_end) + ')\"',\n",
    "                                 '\"' + str(direction) + '\"',\n",
    "                                 '\"' + str(volumes[time_window_start][tollgate_id][direction]) + '\"',\n",
    "                               ]) + '\\n'\n",
    "               fw.writelines(out_line)\n",
    "    fw.close()\n",
    "\n",
    "def main():\n",
    "\n",
    "    in_file = 'volume(table 6)_training'\n",
    "    avgVolume(in_file)\n",
    "\n",
    "if __name__ == '__main__':\n",
    "    main()\n"
   ]
  }
 ],
 "metadata": {
  "kernelspec": {
   "display_name": "Python 3",
   "language": "python",
   "name": "python3"
  },
  "language_info": {
   "codemirror_mode": {
    "name": "ipython",
    "version": 3
   },
   "file_extension": ".py",
   "mimetype": "text/x-python",
   "name": "python",
   "nbconvert_exporter": "python",
   "pygments_lexer": "ipython3",
   "version": "3.4.2"
  }
 },
 "nbformat": 4,
 "nbformat_minor": 1
}
